{
 "cells": [
  {
   "cell_type": "code",
   "execution_count": 35,
   "metadata": {},
   "outputs": [],
   "source": [
    "def connect_jason(url):\n",
    "    import json\n",
    "    import requests\n",
    "    r = requests.get(url)\n",
    "    jason = json.loads(r.text)\n",
    "    return jason"
   ]
  },
  {
   "cell_type": "code",
   "execution_count": null,
   "metadata": {},
   "outputs": [],
   "source": [
    "def API_multiplication(sql_command, part_url):\n",
    "    import sqlite3\n",
    "    conn = sqlite3.connect('DB.db')\n",
    "    c = conn.cursor()\n",
    "    idd = []\n",
    "    for row in c.execute(sql_command):\n",
    "        idd.append(row)\n",
    "    idd = [i[0] for i in idd]\n",
    "\n",
    "    url = part_url\n",
    "    url_list = []\n",
    "    for i in url:\n",
    "        url_list.append(i)\n",
    "\n",
    "    url_all = []\n",
    "    i = 0\n",
    "    while i < len(idd):\n",
    "        g = url_list + [idd[i]]\n",
    "        url_all.append(g)\n",
    "        i += 1\n",
    "\n",
    "    for i in range(0, len(url_all)):\n",
    "        url_all[i] = ''.join(map(str, url_all[i]))\n",
    "        \n",
    "    return url_all"
   ]
  },
  {
   "cell_type": "code",
   "execution_count": 49,
   "metadata": {},
   "outputs": [],
   "source": [
    "def MeasuringStation():\n",
    "    url = 'http://api.gios.gov.pl/pjp-api/rest/station/findAll'\n",
    "    jason = connect_jason(url)\n",
    "    \n",
    "    stations = []\n",
    "    for i in jason:\n",
    "        stations.append((i[\"id\"],i[\"city\"][\"name\"],i[\"addressStreet\"]))\n",
    "    \n",
    "    stations_final = []\n",
    "    for i in stations:\n",
    "        if i[1] in [\"Wrocław\", \"Kraków\", \"Warszawa\", \n",
    "                     \"Poznań\", \"Łódź\", \"Gdańsk\"]:\n",
    "            stations_final.append(i)\n",
    "    \n",
    "    import sqlite3\n",
    "    conn = sqlite3.connect('DB.db')\n",
    "    c = conn.cursor()\n",
    "    c.execute(\"\"\"CREATE TABLE measuring_station (stationID INTEGER PRIMARY KEY,\n",
    "              City VARCHAR (32), Street VARCHAR (50))\"\"\")\n",
    "    c.executemany(\"INSERT INTO measuring_station VALUES (?, ?, ?);\", stations_final)\n",
    "    conn.commit()\n",
    "    conn.close()\n"
   ]
  },
  {
   "cell_type": "code",
   "execution_count": 50,
   "metadata": {},
   "outputs": [],
   "source": [
    "MeasuringStation()"
   ]
  },
  {
   "cell_type": "code",
   "execution_count": 72,
   "metadata": {},
   "outputs": [],
   "source": [
    "def SensorsID():\n",
    "    import sqlite3\n",
    "    conn = sqlite3.connect('DB.db')\n",
    "    c = conn.cursor()\n",
    "    \n",
    "    idd = []\n",
    "    for row in c.execute(\"SELECT stationID FROM measuring_station\"):\n",
    "        idd.append(row)\n",
    "    idd = [i[0] for i in idd]\n",
    "\n",
    "    url = \"http://api.gios.gov.pl/pjp-api/rest/station/sensors/\"\n",
    "    url_list = []\n",
    "    for i in url:\n",
    "        url_list.append(i)\n",
    "\n",
    "    url_all = []\n",
    "    i = 0\n",
    "    while i < len(idd):\n",
    "        g = url_list + [idd[i]]\n",
    "        url_all.append(g)\n",
    "        i += 1\n",
    "\n",
    "    for i in range(0, len(url_all)):\n",
    "        url_all[i] = ''.join(map(str, url_all[i]))\n",
    "\n",
    "    sensors = []\n",
    "    for i in range(0, len(url_all)):\n",
    "        jason = connect_jason(url_all[i])\n",
    "        sensors.append(jason)\n",
    "    \n",
    "    sensors = [subitem for item in sensors for subitem in item]\n",
    "    \n",
    "    sensors_id = []\n",
    "    for i in sensors:\n",
    "        sensors_id.append((i[\"id\"], i[\"stationId\"], i[\"param\"][\"paramName\"], i[\"param\"][\"paramCode\"]))\n",
    "\n",
    "    c.execute(\"\"\"CREATE TABLE sensors_data (sensorID INT PRIMARY KEY,\n",
    "              stationID INT, paramName VARCHAR(30), paramCode VARCHAR(8), \n",
    "              FOREIGN KEY(stationID) REFERENCES measuring_station(stationID));\"\"\")\n",
    "    c.executemany(\"INSERT INTO sensors_data VALUES (?, ?, ?, ?)\", sensors_id)\n",
    "    conn.commit()\n",
    "    conn.close()"
   ]
  },
  {
   "cell_type": "code",
   "execution_count": 73,
   "metadata": {},
   "outputs": [],
   "source": [
    "SensorsID()"
   ]
  },
  {
   "cell_type": "code",
   "execution_count": 122,
   "metadata": {},
   "outputs": [],
   "source": []
  },
  {
   "cell_type": "code",
   "execution_count": 133,
   "metadata": {},
   "outputs": [],
   "source": [
    "def PollutionStats():\n",
    "\n",
    "    url = 'http://api.gios.gov.pl/pjp-api/rest/data/getData/'\n",
    "    url_all = API_multiplication(\"SELECT sensorID FROM sensors_data\", url)\n",
    "    list_1 = []\n",
    "    for u in range(0, len(url_all)):\n",
    "        try:\n",
    "            r = requests.get(url_all[u])\n",
    "            jason = json.loads(r.text)\n",
    "            jason[\"url\"] = url_all[u] \n",
    "            list_1.append(jason)\n",
    "        except:\n",
    "            continue\n",
    "\n",
    "    final_stats = []\n",
    "    for i in range(0,len(list_1)):\n",
    "        for z in range(0, len(list_1[i][\"values\"])):\n",
    "            stat = [list_1[i][\"url\"][len(url):len(list_1[i][\"url\"])],\n",
    "                    list_1[i][\"key\"], \n",
    "                    str.split(list_1[i][\"values\"][z][\"date\"])[0],\n",
    "                    str.split(list_1[i][\"values\"][z][\"date\"])[1],\n",
    "                    list_1[i][\"values\"][z][\"value\"]]\n",
    "            if stat[4] != None:\n",
    "                final_stats.append(stat)\n",
    "\n",
    "\n",
    "    conn = sqlite3.connect(\"DB.db\")\n",
    "    c = conn.cursor()\n",
    "    c.execute(\"\"\"CREATE TABLE pollution_stats (sensorID INTEGER,\n",
    "                      paramCode VARCHAR (8),\n",
    "                      date DATE, time TIME, \n",
    "                      value INTEGER, \n",
    "                      FOREIGN KEY(sensorID) REFERENCES sensors_data(sensorID))\"\"\")\n",
    "\n",
    "\n",
    "    c.executemany(\"INSERT INTO pollution_stats VALUES (?, ?, ?, ?, ?);\",\n",
    "                  final_stats)\n",
    "    conn.commit()"
   ]
  },
  {
   "cell_type": "code",
   "execution_count": 134,
   "metadata": {},
   "outputs": [],
   "source": [
    "PollutionStats()"
   ]
  },
  {
   "cell_type": "code",
   "execution_count": 2,
   "metadata": {},
   "outputs": [
    {
     "data": {
      "text/plain": [
       "<sqlite3.Cursor at 0x51825e0>"
      ]
     },
     "execution_count": 2,
     "metadata": {},
     "output_type": "execute_result"
    }
   ],
   "source": [
    "import sqlite3\n",
    "conn = sqlite3.connect(\"DB.db\")\n",
    "c = conn.cursor()\n",
    "c.execute(\"\"\"CREATE TABLE final (City VARCHAR(32), Street VARCHAR(40),\n",
    "                                         stationID INT, sensorID INT,\n",
    "                                         paramName VARCHAR(40), paramCode VARCHAR(8),\n",
    "                                         date DATE, time TIME, value INT,\n",
    "                                         FOREIGN KEY(stationID) REFERENCES measuring_station(stationID), \n",
    "                                         FOREIGN KEY(sensorID) REFERENCES sensors_data(sensorID))\"\"\")"
   ]
  },
  {
   "cell_type": "code",
   "execution_count": null,
   "metadata": {},
   "outputs": [],
   "source": []
  }
 ],
 "metadata": {
  "kernelspec": {
   "display_name": "Python 3",
   "language": "python",
   "name": "python3"
  },
  "language_info": {
   "codemirror_mode": {
    "name": "ipython",
    "version": 3
   },
   "file_extension": ".py",
   "mimetype": "text/x-python",
   "name": "python",
   "nbconvert_exporter": "python",
   "pygments_lexer": "ipython3",
   "version": "3.7.0"
  }
 },
 "nbformat": 4,
 "nbformat_minor": 2
}
